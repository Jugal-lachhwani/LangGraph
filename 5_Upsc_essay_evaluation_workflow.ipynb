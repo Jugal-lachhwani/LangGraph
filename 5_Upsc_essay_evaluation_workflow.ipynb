{
 "cells": [
  {
   "cell_type": "code",
   "execution_count": 1,
   "id": "93079b10",
   "metadata": {},
   "outputs": [
    {
     "name": "stderr",
     "output_type": "stream",
     "text": [
      "c:\\Users\\DELL\\AppData\\Local\\Programs\\Python\\Python311\\Lib\\site-packages\\tqdm\\auto.py:21: TqdmWarning: IProgress not found. Please update jupyter and ipywidgets. See https://ipywidgets.readthedocs.io/en/stable/user_install.html\n",
      "  from .autonotebook import tqdm as notebook_tqdm\n"
     ]
    }
   ],
   "source": [
    "from langgraph.graph import StateGraph,START,END\n",
    "from typing import TypedDict,List,Annotated\n",
    "from langchain_google_genai import ChatGoogleGenerativeAI\n",
    "from dotenv import load_dotenv\n",
    "from pydantic import BaseModel,Field\n",
    "import operator\n",
    "\n",
    "load_dotenv()\n",
    "model = ChatGoogleGenerativeAI(model='gemini-1.5-flash-latest')"
   ]
  },
  {
   "cell_type": "code",
   "execution_count": 2,
   "id": "deb889b4",
   "metadata": {},
   "outputs": [],
   "source": [
    "class EvaluationSchema(BaseModel):\n",
    "    \n",
    "    feedback: str = Field(description='Detailed feedbackfor the essay')\n",
    "    score: int = Field(description='Score out of 10', ge=0, le=10)\n",
    "    \n",
    "    "
   ]
  },
  {
   "cell_type": "code",
   "execution_count": 3,
   "id": "70e0ebba",
   "metadata": {},
   "outputs": [],
   "source": [
    "class stateFull(TypedDict):\n",
    "    \n",
    "    #user input\n",
    "    essay : str\n",
    "    \n",
    "    clarity_feedback : str\n",
    "    analysis_feedback : str\n",
    "    thought_feedback : str\n",
    "    final_feedback : str\n",
    "    individual_score : Annotated[list[int], operator.add]\n",
    "    avg_score : float"
   ]
  },
  {
   "cell_type": "code",
   "execution_count": 4,
   "id": "df662ade",
   "metadata": {},
   "outputs": [],
   "source": [
    "Structured_model = model.with_structured_output(EvaluationSchema)"
   ]
  },
  {
   "cell_type": "code",
   "execution_count": 5,
   "id": "b2805706",
   "metadata": {},
   "outputs": [],
   "source": [
    "\n",
    "def clarity_feedback(state : stateFull):\n",
    "    essay = state['essay']\n",
    "    \n",
    "    prompt = f'Evaluate the language quality of the {essay} and give it the feedback and score from 0 to 10'\n",
    "    result = Structured_model.invoke(prompt)\n",
    "    \n",
    "    return {'clarity_feedback' : result.feedback, 'individual_score': [result.score]}\n",
    "\n",
    "def thought_feedback(state : stateFull):\n",
    "    essay = state['essay']\n",
    "    \n",
    "    prompt = f'Evaluate the thought quality of the {essay} and give it the feedback and score from 0 to 10'\n",
    "    result = Structured_model.invoke(prompt)\n",
    "    \n",
    "    return {'thought_feedback' : result.feedback, 'individual_score':[result.score]}\n",
    "\n",
    "def analysis_feedback(state : stateFull):\n",
    "    essay = state['essay']\n",
    "    \n",
    "    prompt = f'Evaluate the analysis quality of the {essay} and give it the feedback and score from 0 to 10'\n",
    "    result = Structured_model.invoke(prompt)\n",
    "    \n",
    "    return {'analysis_feedback' : result.feedback, 'individual_score':[result.score]}"
   ]
  },
  {
   "cell_type": "code",
   "execution_count": 6,
   "id": "36714536",
   "metadata": {},
   "outputs": [],
   "source": [
    "def final_analysis(state : stateFull):\n",
    "    try:\n",
    "        print(\"DEBUG STATE in final_analysis:\", state)\n",
    "        final_score = sum(state['individual_score']) / 3\n",
    "        prompt = f'Based on the following feedbacks create a summarized feedback \\n language feedback - {state[\"clarity_feedback\"]} \\n depth of analysis feedback - {state[\"analysis_feedback\"]} \\n clarity of thought feedback - {state[\"thought_feedback\"]}'\n",
    "        overall_feedback = model.invoke(prompt).content\n",
    "        \n",
    "    except Exception as e:\n",
    "        print(\"ERROR in final_analysis:\", e)\n",
    "        raise\n",
    "    # avg calculate\n",
    "\n",
    "    return {'final_feedback': overall_feedback, 'avg_score': final_score}\n",
    "    "
   ]
  },
  {
   "cell_type": "code",
   "execution_count": 7,
   "id": "67c9e2ad",
   "metadata": {},
   "outputs": [],
   "source": [
    "# define graph\n",
    "graph = StateGraph(stateFull)\n",
    "\n",
    "# add nodes\n",
    "graph.add_node('clarity_feedback',clarity_feedback)\n",
    "graph.add_node('thought_feedback',thought_feedback)\n",
    "graph.add_node('analysis_feedback', analysis_feedback)\n",
    "graph.add_node('final_analysis',final_analysis)\n",
    "\n",
    "# add edge\n",
    "graph.add_edge(START,'clarity_feedback')\n",
    "graph.add_edge(START,'thought_feedback')\n",
    "graph.add_edge(START,'analysis_feedback')\n",
    "graph.add_edge('clarity_feedback','final_analysis')\n",
    "graph.add_edge('thought_feedback','final_analysis')\n",
    "graph.add_edge('analysis_feedback','final_analysis')\n",
    "graph.add_edge('final_analysis',END)\n",
    "\n",
    "# compile\n",
    "workflow = graph.compile()"
   ]
  },
  {
   "cell_type": "code",
   "execution_count": 8,
   "id": "fe6dfb30",
   "metadata": {},
   "outputs": [],
   "source": [
    "essay = \"\"\"India in the Age of AI\n",
    "As the world enters a transformative era defined by artificial intelligence (AI), India stands at a critical juncture — one where it can either emerge as a global leader in AI innovation or risk falling behind in the technology race. The age of AI brings with it immense promise as well as unprecedented challenges, and how India navigates this landscape will shape its socio-economic and geopolitical future.\n",
    "\n",
    "India's strengths in the AI domain are rooted in its vast pool of skilled engineers, a thriving IT industry, and a growing startup ecosystem. With over 5 million STEM graduates annually and a burgeoning base of AI researchers, India possesses the intellectual capital required to build cutting-edge AI systems. Institutions like IITs, IIITs, and IISc have begun fostering AI research, while private players such as TCS, Infosys, and Wipro are integrating AI into their global services. In 2020, the government launched the National AI Strategy (AI for All) with a focus on inclusive growth, aiming to leverage AI in healthcare, agriculture, education, and smart mobility.\n",
    "\n",
    "One of the most promising applications of AI in India lies in agriculture, where predictive analytics can guide farmers on optimal sowing times, weather forecasts, and pest control. In healthcare, AI-powered diagnostics can help address India’s doctor-patient ratio crisis, particularly in rural areas. Educational platforms are increasingly using AI to personalize learning paths, while smart governance tools are helping improve public service delivery and fraud detection.\n",
    "\n",
    "However, the path to AI-led growth is riddled with challenges. Chief among them is the digital divide. While metropolitan cities may embrace AI-driven solutions, rural India continues to struggle with basic internet access and digital literacy. The risk of job displacement due to automation also looms large, especially for low-skilled workers. Without effective skilling and re-skilling programs, AI could exacerbate existing socio-economic inequalities.\n",
    "\n",
    "Another pressing concern is data privacy and ethics. As AI systems rely heavily on vast datasets, ensuring that personal data is used transparently and responsibly becomes vital. India is still shaping its data protection laws, and in the absence of a strong regulatory framework, AI systems may risk misuse or bias.\n",
    "\n",
    "To harness AI responsibly, India must adopt a multi-stakeholder approach involving the government, academia, industry, and civil society. Policies should promote open datasets, encourage responsible innovation, and ensure ethical AI practices. There is also a need for international collaboration, particularly with countries leading in AI research, to gain strategic advantage and ensure interoperability in global systems.\n",
    "\n",
    "India’s demographic dividend, when paired with responsible AI adoption, can unlock massive economic growth, improve governance, and uplift marginalized communities. But this vision will only materialize if AI is seen not merely as a tool for automation, but as an enabler of human-centered development.\n",
    "\n",
    "In conclusion, India in the age of AI is a story in the making — one of opportunity, responsibility, and transformation. The decisions we make today will not just determine India’s AI trajectory, but also its future as an inclusive, equitable, and innovation-driven society.\"\"\""
   ]
  },
  {
   "cell_type": "code",
   "execution_count": null,
   "id": "54d6ad28",
   "metadata": {},
   "outputs": [
    {
     "name": "stdout",
     "output_type": "stream",
     "text": [
      "DEBUG STATE in final_analysis: {'essay': \"India in the Age of AI\\nAs the world enters a transformative era defined by artificial intelligence (AI), India stands at a critical juncture — one where it can either emerge as a global leader in AI innovation or risk falling behind in the technology race. The age of AI brings with it immense promise as well as unprecedented challenges, and how India navigates this landscape will shape its socio-economic and geopolitical future.\\n\\nIndia's strengths in the AI domain are rooted in its vast pool of skilled engineers, a thriving IT industry, and a growing startup ecosystem. With over 5 million STEM graduates annually and a burgeoning base of AI researchers, India possesses the intellectual capital required to build cutting-edge AI systems. Institutions like IITs, IIITs, and IISc have begun fostering AI research, while private players such as TCS, Infosys, and Wipro are integrating AI into their global services. In 2020, the government launched the National AI Strategy (AI for All) with a focus on inclusive growth, aiming to leverage AI in healthcare, agriculture, education, and smart mobility.\\n\\nOne of the most promising applications of AI in India lies in agriculture, where predictive analytics can guide farmers on optimal sowing times, weather forecasts, and pest control. In healthcare, AI-powered diagnostics can help address India’s doctor-patient ratio crisis, particularly in rural areas. Educational platforms are increasingly using AI to personalize learning paths, while smart governance tools are helping improve public service delivery and fraud detection.\\n\\nHowever, the path to AI-led growth is riddled with challenges. Chief among them is the digital divide. While metropolitan cities may embrace AI-driven solutions, rural India continues to struggle with basic internet access and digital literacy. The risk of job displacement due to automation also looms large, especially for low-skilled workers. Without effective skilling and re-skilling programs, AI could exacerbate existing socio-economic inequalities.\\n\\nAnother pressing concern is data privacy and ethics. As AI systems rely heavily on vast datasets, ensuring that personal data is used transparently and responsibly becomes vital. India is still shaping its data protection laws, and in the absence of a strong regulatory framework, AI systems may risk misuse or bias.\\n\\nTo harness AI responsibly, India must adopt a multi-stakeholder approach involving the government, academia, industry, and civil society. Policies should promote open datasets, encourage responsible innovation, and ensure ethical AI practices. There is also a need for international collaboration, particularly with countries leading in AI research, to gain strategic advantage and ensure interoperability in global systems.\\n\\nIndia’s demographic dividend, when paired with responsible AI adoption, can unlock massive economic growth, improve governance, and uplift marginalized communities. But this vision will only materialize if AI is seen not merely as a tool for automation, but as an enabler of human-centered development.\\n\\nIn conclusion, India in the age of AI is a story in the making — one of opportunity, responsibility, and transformation. The decisions we make today will not just determine India’s AI trajectory, but also its future as an inclusive, equitable, and innovation-driven society.\", 'clarity_feedback': 'The essay on \"India in the Age of AI\" is well-structured and informative, offering a balanced perspective on the opportunities and challenges of AI adoption in India.  The writing is clear and concise, effectively conveying complex information to a general audience.  Specific examples of AI applications in various sectors (agriculture, healthcare, education) strengthen the analysis.  The discussion of challenges like the digital divide, job displacement, and data privacy is insightful and relevant. The conclusion effectively summarizes the key points and emphasizes the importance of responsible AI development. Minor improvements could include a more in-depth exploration of specific policy recommendations and a more detailed analysis of the ethical considerations surrounding AI bias. ', 'analysis_feedback': \"The analysis provides a balanced overview of India's potential and challenges in the age of AI.  Strengths are well-highlighted, including the skilled workforce and government initiatives. However, the analysis could benefit from more in-depth discussion on specific AI applications and their impact, as well as a more critical examination of the potential negative consequences of AI adoption, such as job displacement and algorithmic bias.  The conclusion is strong, summarizing the key points effectively. \", 'thought_feedback': \"The essay provides a balanced and insightful analysis of India's position in the age of AI. It effectively highlights both the opportunities and challenges, including the digital divide, job displacement, and data privacy concerns.  The discussion of potential applications in agriculture, healthcare, and education is well-developed.  The conclusion effectively summarizes the key takeaways and emphasizes the importance of responsible AI adoption. However, the essay could benefit from more concrete examples of existing AI initiatives in India and a deeper exploration of the potential geopolitical implications.\", 'individual_score': [8, 9, 8]}\n"
     ]
    },
    {
     "data": {
      "text/plain": [
       "{'essay': \"India in the Age of AI\\nAs the world enters a transformative era defined by artificial intelligence (AI), India stands at a critical juncture — one where it can either emerge as a global leader in AI innovation or risk falling behind in the technology race. The age of AI brings with it immense promise as well as unprecedented challenges, and how India navigates this landscape will shape its socio-economic and geopolitical future.\\n\\nIndia's strengths in the AI domain are rooted in its vast pool of skilled engineers, a thriving IT industry, and a growing startup ecosystem. With over 5 million STEM graduates annually and a burgeoning base of AI researchers, India possesses the intellectual capital required to build cutting-edge AI systems. Institutions like IITs, IIITs, and IISc have begun fostering AI research, while private players such as TCS, Infosys, and Wipro are integrating AI into their global services. In 2020, the government launched the National AI Strategy (AI for All) with a focus on inclusive growth, aiming to leverage AI in healthcare, agriculture, education, and smart mobility.\\n\\nOne of the most promising applications of AI in India lies in agriculture, where predictive analytics can guide farmers on optimal sowing times, weather forecasts, and pest control. In healthcare, AI-powered diagnostics can help address India’s doctor-patient ratio crisis, particularly in rural areas. Educational platforms are increasingly using AI to personalize learning paths, while smart governance tools are helping improve public service delivery and fraud detection.\\n\\nHowever, the path to AI-led growth is riddled with challenges. Chief among them is the digital divide. While metropolitan cities may embrace AI-driven solutions, rural India continues to struggle with basic internet access and digital literacy. The risk of job displacement due to automation also looms large, especially for low-skilled workers. Without effective skilling and re-skilling programs, AI could exacerbate existing socio-economic inequalities.\\n\\nAnother pressing concern is data privacy and ethics. As AI systems rely heavily on vast datasets, ensuring that personal data is used transparently and responsibly becomes vital. India is still shaping its data protection laws, and in the absence of a strong regulatory framework, AI systems may risk misuse or bias.\\n\\nTo harness AI responsibly, India must adopt a multi-stakeholder approach involving the government, academia, industry, and civil society. Policies should promote open datasets, encourage responsible innovation, and ensure ethical AI practices. There is also a need for international collaboration, particularly with countries leading in AI research, to gain strategic advantage and ensure interoperability in global systems.\\n\\nIndia’s demographic dividend, when paired with responsible AI adoption, can unlock massive economic growth, improve governance, and uplift marginalized communities. But this vision will only materialize if AI is seen not merely as a tool for automation, but as an enabler of human-centered development.\\n\\nIn conclusion, India in the age of AI is a story in the making — one of opportunity, responsibility, and transformation. The decisions we make today will not just determine India’s AI trajectory, but also its future as an inclusive, equitable, and innovation-driven society.\",\n",
       " 'clarity_feedback': 'The essay on \"India in the Age of AI\" is well-structured and informative, offering a balanced perspective on the opportunities and challenges of AI adoption in India.  The writing is clear and concise, effectively conveying complex information to a general audience.  Specific examples of AI applications in various sectors (agriculture, healthcare, education) strengthen the analysis.  The discussion of challenges like the digital divide, job displacement, and data privacy is insightful and relevant. The conclusion effectively summarizes the key points and emphasizes the importance of responsible AI development. Minor improvements could include a more in-depth exploration of specific policy recommendations and a more detailed analysis of the ethical considerations surrounding AI bias. ',\n",
       " 'analysis_feedback': \"The analysis provides a balanced overview of India's potential and challenges in the age of AI.  Strengths are well-highlighted, including the skilled workforce and government initiatives. However, the analysis could benefit from more in-depth discussion on specific AI applications and their impact, as well as a more critical examination of the potential negative consequences of AI adoption, such as job displacement and algorithmic bias.  The conclusion is strong, summarizing the key points effectively. \",\n",
       " 'thought_feedback': \"The essay provides a balanced and insightful analysis of India's position in the age of AI. It effectively highlights both the opportunities and challenges, including the digital divide, job displacement, and data privacy concerns.  The discussion of potential applications in agriculture, healthcare, and education is well-developed.  The conclusion effectively summarizes the key takeaways and emphasizes the importance of responsible AI adoption. However, the essay could benefit from more concrete examples of existing AI initiatives in India and a deeper exploration of the potential geopolitical implications.\",\n",
       " 'final_feedback': 'The essay on \"India in the Age of AI\" presents a well-structured and informative overview of the topic, offering a balanced perspective on opportunities and challenges.  The writing is clear and concise, effectively conveying complex information with relevant examples from various sectors.  However, to strengthen the analysis, the essay should incorporate more in-depth discussions on: specific AI applications and their impacts; policy recommendations; ethical considerations, including AI bias; and the potential negative consequences like job displacement and geopolitical implications.  More concrete examples of existing AI initiatives in India would also enhance the analysis.  The conclusion effectively summarizes the key points.',\n",
       " 'individual_score': [8, 9, 8],\n",
       " 'avg_score': 8.333333333333334}"
      ]
     },
     "execution_count": 9,
     "metadata": {},
     "output_type": "execute_result"
    },
    {
     "ename": "",
     "evalue": "",
     "output_type": "error",
     "traceback": [
      "\u001b[1;31mThe Kernel crashed while executing code in the current cell or a previous cell. \n",
      "\u001b[1;31mPlease review the code in the cell(s) to identify a possible cause of the failure. \n",
      "\u001b[1;31mClick <a href='https://aka.ms/vscodeJupyterKernelCrash'>here</a> for more info. \n",
      "\u001b[1;31mView Jupyter <a href='command:jupyter.viewOutput'>log</a> for further details."
     ]
    }
   ],
   "source": [
    "workflow.invoke({'essay':essay})"
   ]
  },
  {
   "cell_type": "code",
   "execution_count": null,
   "id": "88bb8cab",
   "metadata": {},
   "outputs": [],
   "source": []
  }
 ],
 "metadata": {
  "kernelspec": {
   "display_name": "Python 3",
   "language": "python",
   "name": "python3"
  },
  "language_info": {
   "codemirror_mode": {
    "name": "ipython",
    "version": 3
   },
   "file_extension": ".py",
   "mimetype": "text/x-python",
   "name": "python",
   "nbconvert_exporter": "python",
   "pygments_lexer": "ipython3",
   "version": "3.11.4"
  }
 },
 "nbformat": 4,
 "nbformat_minor": 5
}
