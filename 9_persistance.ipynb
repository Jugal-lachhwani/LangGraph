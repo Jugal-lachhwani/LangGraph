{
 "cells": [
  {
   "cell_type": "code",
   "execution_count": 74,
   "id": "ed55f723",
   "metadata": {},
   "outputs": [],
   "source": [
    "from langgraph.graph import StateGraph,START,END\n",
    "from typing import TypedDict,List,Annotated,Literal\n",
    "from langchain_google_genai import ChatGoogleGenerativeAI\n",
    "from dotenv import load_dotenv\n",
    "from pydantic import BaseModel,Field\n",
    "import operator\n",
    "from langgraph.checkpoint.memory import InMemorySaver\n",
    "\n",
    "load_dotenv()\n",
    "model = ChatGoogleGenerativeAI(model='gemini-1.5-flash-latest')"
   ]
  },
  {
   "cell_type": "code",
   "execution_count": 75,
   "id": "083136fb",
   "metadata": {},
   "outputs": [],
   "source": [
    "class Marks(BaseModel):\n",
    "    marks : int = Field(...,description='Give marks to the joke based on how enjoyble it is ')"
   ]
  },
  {
   "cell_type": "code",
   "execution_count": 76,
   "id": "710de8c8",
   "metadata": {},
   "outputs": [
    {
     "data": {
      "text/plain": [
       "int"
      ]
     },
     "execution_count": 76,
     "metadata": {},
     "output_type": "execute_result"
    }
   ],
   "source": [
    "structure_model = model.with_structured_output(Marks)\n",
    "\n",
    "type(structure_model.invoke('my name is Jugal').marks)"
   ]
  },
  {
   "cell_type": "code",
   "execution_count": 77,
   "id": "01dc9ff5",
   "metadata": {},
   "outputs": [],
   "source": [
    "class JokeState(TypedDict):\n",
    "    \n",
    "    title : str\n",
    "    joke : str\n",
    "    marks : str"
   ]
  },
  {
   "cell_type": "code",
   "execution_count": 78,
   "id": "0cd450e7",
   "metadata": {},
   "outputs": [],
   "source": [
    "def create_joke(state : JokeState):\n",
    "    topic = state['title']\n",
    "    prompt = f\"Create a Joke on this Topic : {topic}\"\n",
    "    joke = model.invoke(prompt).content\n",
    "    return {'joke' : joke}\n",
    "\n",
    "def give_marks(state : JokeState):\n",
    "    joke = state['joke']\n",
    "    score = structure_model.invoke(joke).marks\n",
    "    return {'marks' : score}"
   ]
  },
  {
   "cell_type": "code",
   "execution_count": 79,
   "id": "82490a5f",
   "metadata": {},
   "outputs": [],
   "source": [
    "graph = StateGraph(JokeState)\n",
    "\n",
    "graph.add_node('create_joke',create_joke)\n",
    "graph.add_node('give_marks',give_marks)\n",
    "\n",
    "graph.add_edge(START,'create_joke')\n",
    "graph.add_edge('create_joke','give_marks')\n",
    "graph.add_edge('give_marks',END)\n",
    "\n",
    "checkpointer = InMemorySaver()"
   ]
  },
  {
   "cell_type": "code",
   "execution_count": 80,
   "id": "14e89ae5",
   "metadata": {},
   "outputs": [],
   "source": [
    "workflow = graph.compile(checkpointer=checkpointer)"
   ]
  },
  {
   "cell_type": "code",
   "execution_count": 81,
   "id": "ea0391b9",
   "metadata": {},
   "outputs": [],
   "source": [
    "config1 = {\"configurable\": {\"thread_id\": \"1\"}}"
   ]
  },
  {
   "cell_type": "code",
   "execution_count": 90,
   "id": "81d7ce10",
   "metadata": {},
   "outputs": [
    {
     "data": {
      "text/plain": [
       "{'title': 'python',\n",
       " 'joke': 'Why did the Python program go to therapy?\\n\\nBecause it had too many bugs and needed some serious `debug`ging!',\n",
       " 'marks': 5}"
      ]
     },
     "execution_count": 90,
     "metadata": {},
     "output_type": "execute_result"
    }
   ],
   "source": [
    "workflow.invoke({'title':'python'}, config=config1)"
   ]
  },
  {
   "cell_type": "code",
   "execution_count": 91,
   "id": "ba7a6379",
   "metadata": {},
   "outputs": [
    {
     "name": "stdout",
     "output_type": "stream",
     "text": [
      "StateSnapshot(values={'title': 'python', 'joke': 'Why did the Python program go to therapy?\\n\\nBecause it had too many bugs and needed some serious `debug`ging!', 'marks': 5}, next=(), config={'configurable': {'thread_id': '1', 'checkpoint_ns': '', 'checkpoint_id': '1f079f6b-4c20-6282-800a-0826f272d591'}}, metadata={'source': 'loop', 'step': 10, 'parents': {}}, created_at='2025-08-15T16:41:35.001459+00:00', parent_config={'configurable': {'thread_id': '1', 'checkpoint_ns': '', 'checkpoint_id': '1f079f6b-12db-6265-8009-ce026e92f5e9'}}, tasks=(), interrupts=())\n"
     ]
    }
   ],
   "source": [
    "print(workflow.get_state(config1))"
   ]
  },
  {
   "cell_type": "code",
   "execution_count": 92,
   "id": "b2859157",
   "metadata": {},
   "outputs": [
    {
     "data": {
      "text/plain": [
       "[StateSnapshot(values={'title': 'python', 'joke': 'Why did the Python program go to therapy?\\n\\nBecause it had too many bugs and needed some serious `debug`ging!', 'marks': 5}, next=(), config={'configurable': {'thread_id': '1', 'checkpoint_ns': '', 'checkpoint_id': '1f079f6b-4c20-6282-800a-0826f272d591'}}, metadata={'source': 'loop', 'step': 10, 'parents': {}}, created_at='2025-08-15T16:41:35.001459+00:00', parent_config={'configurable': {'thread_id': '1', 'checkpoint_ns': '', 'checkpoint_id': '1f079f6b-12db-6265-8009-ce026e92f5e9'}}, tasks=(), interrupts=()),\n",
       " StateSnapshot(values={'title': 'python', 'joke': 'Why did the Python program go to therapy?\\n\\nBecause it had too many bugs and needed some serious `debug`ging!', 'marks': 5}, next=('give_marks',), config={'configurable': {'thread_id': '1', 'checkpoint_ns': '', 'checkpoint_id': '1f079f6b-12db-6265-8009-ce026e92f5e9'}}, metadata={'source': 'loop', 'step': 9, 'parents': {}}, created_at='2025-08-15T16:41:28.996310+00:00', parent_config={'configurable': {'thread_id': '1', 'checkpoint_ns': '', 'checkpoint_id': '1f079f6a-b4c6-600e-8008-eb349199484f'}}, tasks=(PregelTask(id='a388be7c-d151-e892-c36e-0ac3d8acab41', name='give_marks', path=('__pregel_pull', 'give_marks'), error=None, interrupts=(), state=None, result={'marks': 5}),), interrupts=()),\n",
       " StateSnapshot(values={'title': 'python', 'joke': \"Why does the pizza slice like the mushroom so much?\\n\\nBecause he's a fungi!\", 'marks': 5}, next=('create_joke',), config={'configurable': {'thread_id': '1', 'checkpoint_ns': '', 'checkpoint_id': '1f079f6a-b4c6-600e-8008-eb349199484f'}}, metadata={'source': 'loop', 'step': 8, 'parents': {}}, created_at='2025-08-15T16:41:19.131035+00:00', parent_config={'configurable': {'thread_id': '1', 'checkpoint_ns': '', 'checkpoint_id': '1f079f6a-b4c2-6967-8007-70335b871f9c'}}, tasks=(PregelTask(id='37e852b4-7821-a33c-fd6f-82c3f4bfe4ff', name='create_joke', path=('__pregel_pull', 'create_joke'), error=None, interrupts=(), state=None, result={'joke': 'Why did the Python program go to therapy?\\n\\nBecause it had too many bugs and needed some serious `debug`ging!'}),), interrupts=()),\n",
       " StateSnapshot(values={'title': 'pizza', 'joke': \"Why does the pizza slice like the mushroom so much?\\n\\nBecause he's a fungi!\", 'marks': 5}, next=('__start__',), config={'configurable': {'thread_id': '1', 'checkpoint_ns': '', 'checkpoint_id': '1f079f6a-b4c2-6967-8007-70335b871f9c'}}, metadata={'source': 'input', 'step': 7, 'parents': {}}, created_at='2025-08-15T16:41:19.129635+00:00', parent_config={'configurable': {'thread_id': '1', 'checkpoint_ns': '', 'checkpoint_id': '1f079f69-7791-64af-8006-a9f6b242c6bf'}}, tasks=(PregelTask(id='9d472d33-2012-97e4-7e49-4903b6fe10e1', name='__start__', path=('__pregel_pull', '__start__'), error=None, interrupts=(), state=None, result={'title': 'python'}),), interrupts=()),\n",
       " StateSnapshot(values={'title': 'pizza', 'joke': \"Why does the pizza slice like the mushroom so much?\\n\\nBecause he's a fungi!\", 'marks': 5}, next=(), config={'configurable': {'thread_id': '1', 'checkpoint_ns': '', 'checkpoint_id': '1f079f69-7791-64af-8006-a9f6b242c6bf'}}, metadata={'source': 'loop', 'step': 6, 'parents': {}}, created_at='2025-08-15T16:40:45.869585+00:00', parent_config={'configurable': {'thread_id': '1', 'checkpoint_ns': '', 'checkpoint_id': '1f079f69-21e8-6562-8005-7bdc56f69cf1'}}, tasks=(), interrupts=()),\n",
       " StateSnapshot(values={'title': 'pizza', 'joke': \"Why does the pizza slice like the mushroom so much?\\n\\nBecause he's a fungi!\", 'marks': 5}, next=('give_marks',), config={'configurable': {'thread_id': '1', 'checkpoint_ns': '', 'checkpoint_id': '1f079f69-21e8-6562-8005-7bdc56f69cf1'}}, metadata={'source': 'loop', 'step': 5, 'parents': {}}, created_at='2025-08-15T16:40:36.887485+00:00', parent_config={'configurable': {'thread_id': '1', 'checkpoint_ns': '', 'checkpoint_id': '1f079f68-fe4b-6fd8-8004-60fc30bd2d7e'}}, tasks=(PregelTask(id='b23b4123-e219-10fb-ad14-6f377ac38c8b', name='give_marks', path=('__pregel_pull', 'give_marks'), error=None, interrupts=(), state=None, result={'marks': 5}),), interrupts=()),\n",
       " StateSnapshot(values={'title': 'pizza', 'joke': \"Why does the pizza slice like the mushroom so much?\\n\\nBecause he's a fungi!\", 'marks': 5}, next=('create_joke',), config={'configurable': {'thread_id': '1', 'checkpoint_ns': '', 'checkpoint_id': '1f079f68-fe4b-6fd8-8004-60fc30bd2d7e'}}, metadata={'source': 'loop', 'step': 4, 'parents': {}}, created_at='2025-08-15T16:40:33.153429+00:00', parent_config={'configurable': {'thread_id': '1', 'checkpoint_ns': '', 'checkpoint_id': '1f079f68-fe4a-62b0-8003-65f26bed81bb'}}, tasks=(PregelTask(id='e9634e6e-e582-d568-bd7a-eee785db66eb', name='create_joke', path=('__pregel_pull', 'create_joke'), error=None, interrupts=(), state=None, result={'joke': \"Why does the pizza slice like the mushroom so much?\\n\\nBecause he's a fungi!\"}),), interrupts=()),\n",
       " StateSnapshot(values={'title': 'pizza', 'joke': \"Why does the pizza slice like the mushroom so much?\\n\\nBecause he's a fungi!\", 'marks': 5}, next=('__start__',), config={'configurable': {'thread_id': '1', 'checkpoint_ns': '', 'checkpoint_id': '1f079f68-fe4a-62b0-8003-65f26bed81bb'}}, metadata={'source': 'input', 'step': 3, 'parents': {}}, created_at='2025-08-15T16:40:33.152683+00:00', parent_config={'configurable': {'thread_id': '1', 'checkpoint_ns': '', 'checkpoint_id': '1f079f5d-faf1-6555-8002-2cbfba499a80'}}, tasks=(PregelTask(id='482beb26-22b3-febe-7cca-37408a8ca410', name='__start__', path=('__pregel_pull', '__start__'), error=None, interrupts=(), state=None, result={'title': 'pizza'}),), interrupts=()),\n",
       " StateSnapshot(values={'title': 'pizza', 'joke': \"Why does the pizza slice like the mushroom so much?\\n\\nBecause he's a fungi!\", 'marks': 5}, next=(), config={'configurable': {'thread_id': '1', 'checkpoint_ns': '', 'checkpoint_id': '1f079f5d-faf1-6555-8002-2cbfba499a80'}}, metadata={'source': 'loop', 'step': 2, 'parents': {}}, created_at='2025-08-15T16:35:37.522722+00:00', parent_config={'configurable': {'thread_id': '1', 'checkpoint_ns': '', 'checkpoint_id': '1f079f5d-0c07-6506-8001-eb3408016991'}}, tasks=(), interrupts=()),\n",
       " StateSnapshot(values={'title': 'pizza', 'joke': \"Why does the pizza slice like the mushroom so much?\\n\\nBecause he's a fungi!\"}, next=('give_marks',), config={'configurable': {'thread_id': '1', 'checkpoint_ns': '', 'checkpoint_id': '1f079f5d-0c07-6506-8001-eb3408016991'}}, metadata={'source': 'loop', 'step': 1, 'parents': {}}, created_at='2025-08-15T16:35:12.470759+00:00', parent_config={'configurable': {'thread_id': '1', 'checkpoint_ns': '', 'checkpoint_id': '1f079f5c-402e-6e58-8000-d967b9715968'}}, tasks=(PregelTask(id='fc8bed61-4c0a-c118-e27d-5a0c2b6f367e', name='give_marks', path=('__pregel_pull', 'give_marks'), error=None, interrupts=(), state=None, result={'marks': 5}),), interrupts=()),\n",
       " StateSnapshot(values={'title': 'pizza'}, next=('create_joke',), config={'configurable': {'thread_id': '1', 'checkpoint_ns': '', 'checkpoint_id': '1f079f5c-402e-6e58-8000-d967b9715968'}}, metadata={'source': 'loop', 'step': 0, 'parents': {}}, created_at='2025-08-15T16:34:51.096021+00:00', parent_config={'configurable': {'thread_id': '1', 'checkpoint_ns': '', 'checkpoint_id': '1f079f5c-4029-6f3f-bfff-1ea4bf8bb83a'}}, tasks=(PregelTask(id='099b60a3-e488-2172-a6f2-4f255b442046', name='create_joke', path=('__pregel_pull', 'create_joke'), error=None, interrupts=(), state=None, result={'joke': \"Why does the pizza slice like the mushroom so much?\\n\\nBecause he's a fungi!\"}),), interrupts=()),\n",
       " StateSnapshot(values={}, next=('__start__',), config={'configurable': {'thread_id': '1', 'checkpoint_ns': '', 'checkpoint_id': '1f079f5c-4029-6f3f-bfff-1ea4bf8bb83a'}}, metadata={'source': 'input', 'step': -1, 'parents': {}}, created_at='2025-08-15T16:34:51.093996+00:00', parent_config=None, tasks=(PregelTask(id='74fc8e8f-2f2f-7f8a-4403-4ea7b0b5045a', name='__start__', path=('__pregel_pull', '__start__'), error=None, interrupts=(), state=None, result={'title': 'pizza'}),), interrupts=())]"
      ]
     },
     "execution_count": 92,
     "metadata": {},
     "output_type": "execute_result"
    }
   ],
   "source": [
    "list(workflow.get_state_history(config1))"
   ]
  },
  {
   "cell_type": "code",
   "execution_count": 94,
   "id": "30a30a18",
   "metadata": {},
   "outputs": [
    {
     "data": {
      "text/plain": [
       "StateSnapshot(values={'title': 'pizza', 'joke': \"Why does the pizza slice like the mushroom so much?\\n\\nBecause he's a fungi!\", 'marks': 5}, next=('__start__',), config={'configurable': {'thread_id': '1', 'checkpoint_id': '1f079f68-fe4a-62b0-8003-65f26bed81bb'}}, metadata={'source': 'input', 'step': 3, 'parents': {}}, created_at='2025-08-15T16:40:33.152683+00:00', parent_config={'configurable': {'thread_id': '1', 'checkpoint_ns': '', 'checkpoint_id': '1f079f5d-faf1-6555-8002-2cbfba499a80'}}, tasks=(PregelTask(id='482beb26-22b3-febe-7cca-37408a8ca410', name='__start__', path=('__pregel_pull', '__start__'), error=None, interrupts=(), state=None, result={'title': 'pizza'}),), interrupts=())"
      ]
     },
     "execution_count": 94,
     "metadata": {},
     "output_type": "execute_result"
    }
   ],
   "source": [
    "workflow.get_state({'configurable': {'thread_id':'1','checkpoint_id': '1f079f68-fe4a-62b0-8003-65f26bed81bb'}})"
   ]
  },
  {
   "cell_type": "code",
   "execution_count": 95,
   "id": "8beb38ce",
   "metadata": {},
   "outputs": [
    {
     "data": {
      "text/plain": [
       "{'title': 'pizza',\n",
       " 'joke': \"Why does the pizza slice like the mushroom so much?\\n\\nBecause he's a fungi!\",\n",
       " 'marks': 5}"
      ]
     },
     "execution_count": 95,
     "metadata": {},
     "output_type": "execute_result"
    }
   ],
   "source": [
    "workflow.invoke(None,{'configurable': {'thread_id':'1','checkpoint_id': '1f079f68-fe4a-62b0-8003-65f26bed81bb'}})\n"
   ]
  },
  {
   "cell_type": "code",
   "execution_count": null,
   "id": "c15db312",
   "metadata": {},
   "outputs": [],
   "source": []
  }
 ],
 "metadata": {
  "kernelspec": {
   "display_name": "Python 3",
   "language": "python",
   "name": "python3"
  },
  "language_info": {
   "codemirror_mode": {
    "name": "ipython",
    "version": 3
   },
   "file_extension": ".py",
   "mimetype": "text/x-python",
   "name": "python",
   "nbconvert_exporter": "python",
   "pygments_lexer": "ipython3",
   "version": "3.11.4"
  }
 },
 "nbformat": 4,
 "nbformat_minor": 5
}
