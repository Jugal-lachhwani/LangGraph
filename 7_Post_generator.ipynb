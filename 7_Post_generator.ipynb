{
 "cells": [
  {
   "cell_type": "code",
   "execution_count": 13,
   "id": "282f8ffe",
   "metadata": {},
   "outputs": [],
   "source": [
    "from langgraph.graph import StateGraph,START,END\n",
    "from typing import TypedDict,List,Annotated,Literal\n",
    "from langchain_google_genai import ChatGoogleGenerativeAI\n",
    "from dotenv import load_dotenv\n",
    "from pydantic import BaseModel,Field\n",
    "import operator\n",
    "\n",
    "load_dotenv()\n",
    "model = ChatGoogleGenerativeAI(model='gemini-1.5-flash-latest')"
   ]
  },
  {
   "cell_type": "code",
   "execution_count": 14,
   "id": "70e2c4a9",
   "metadata": {},
   "outputs": [],
   "source": [
    "class number(TypedDict):\n",
    "    \n",
    "    n : int\n",
    "    max_iter : int"
   ]
  },
  {
   "cell_type": "code",
   "execution_count": null,
   "id": "f48d17d0",
   "metadata": {},
   "outputs": [],
   "source": [
    "def increase(state : number):\n",
    "    return {'n' : state['n'] + 1,'max_iter' : state['max_iter'] + 1}\n",
    "\n",
    "def evaluate(state : number) -> Literal['increase',END]:\n",
    "    if state['n'] > 3:\n",
    "        return END\n",
    "    else:\n",
    "        return 'increase'"
   ]
  },
  {
   "cell_type": "code",
   "execution_count": 16,
   "id": "4e91bdfa",
   "metadata": {},
   "outputs": [
    {
     "data": {
      "image/png": "[encoded data removed]",
      "text/plain": [
       "<langgraph.graph.state.CompiledStateGraph object at 0x0000018AB4424090>"
      ]
     },
     "execution_count": 16,
     "metadata": {},
     "output_type": "execute_result"
    }
   ],
   "source": [
    "graph = StateGraph(number)\n",
    "\n",
    "graph.add_node('increase',increase)\n",
    "\n",
    "\n",
    "graph.add_edge(START,'increase')\n",
    "graph.add_conditional_edges('increase',evaluate)\n",
    "\n",
    "graph.compile()"
   ]
  },
  {
   "cell_type": "code",
   "execution_count": 19,
   "id": "ed40db27",
   "metadata": {},
   "outputs": [
    {
     "data": {
      "text/plain": [
       "{'n': 4, 'max_iter': 1}"
      ]
     },
     "execution_count": 19,
     "metadata": {},
     "output_type": "execute_result"
    }
   ],
   "source": [
    "workflow = graph.compile()\n",
    "\n",
    "workflow.invoke({'n' : 3,'max_iter' : 0})"
   ]
  },
  {
   "cell_type": "code",
   "execution_count": null,
   "id": "d5efbbb9",
   "metadata": {},
   "outputs": [],
   "source": []
  }
 ],
 "metadata": {
  "kernelspec": {
   "display_name": "Python 3",
   "language": "python",
   "name": "python3"
  },
  "language_info": {
   "codemirror_mode": {
    "name": "ipython",
    "version": 3
   },
   "file_extension": ".py",
   "mimetype": "text/x-python",
   "name": "python",
   "nbconvert_exporter": "python",
   "pygments_lexer": "ipython3",
   "version": "3.11.4"
  }
 },
 "nbformat": 4,
 "nbformat_minor": 5
}
