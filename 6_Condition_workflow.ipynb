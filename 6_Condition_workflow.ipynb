{
 "cells": [
  {
   "cell_type": "code",
   "execution_count": 1,
   "id": "2486ad27",
   "metadata": {},
   "outputs": [
    {
     "name": "stderr",
     "output_type": "stream",
     "text": [
      "c:\\Users\\DELL\\AppData\\Local\\Programs\\Python\\Python311\\Lib\\site-packages\\tqdm\\auto.py:21: TqdmWarning: IProgress not found. Please update jupyter and ipywidgets. See https://ipywidgets.readthedocs.io/en/stable/user_install.html\n",
      "  from .autonotebook import tqdm as notebook_tqdm\n"
     ]
    }
   ],
   "source": [
    "from langgraph.graph import StateGraph,START,END\n",
    "from typing import TypedDict,List,Annotated,Literal\n",
    "from langchain_google_genai import ChatGoogleGenerativeAI\n",
    "from dotenv import load_dotenv\n",
    "from pydantic import BaseModel,Field\n",
    "import operator\n",
    "\n",
    "load_dotenv()\n",
    "model = ChatGoogleGenerativeAI(model=\"gemini-1.5-pro\")"
   ]
  },
  {
   "cell_type": "code",
   "execution_count": 2,
   "id": "51f9e55b",
   "metadata": {},
   "outputs": [],
   "source": [
    "class Quadratic_eq(TypedDict):\n",
    "    \n",
    "    a : int\n",
    "    b : int\n",
    "    c : int\n",
    "    \n",
    "    discriminent : float\n",
    "    result : str"
   ]
  },
  {
   "cell_type": "code",
   "execution_count": 7,
   "id": "b76ebdd6",
   "metadata": {},
   "outputs": [],
   "source": [
    "def descriminent(state : Quadratic_eq) -> Quadratic_eq:\n",
    "    \n",
    "    a = state['a']\n",
    "    b = state['b']\n",
    "    c = state['c']\n",
    "    \n",
    "    d = b**2 - 4*a*c\n",
    "    \n",
    "    return {'discriminent' : d} \n",
    "\n",
    "def condition(state : Quadratic_eq) -> Literal['two_real_roots', 'same_roots', 'no_real_root']:\n",
    "    d = state['discriminent']\n",
    "    if d < 0:\n",
    "        return 'no_real_root'\n",
    "    elif d == 0:\n",
    "        return 'same_roots'\n",
    "    else:\n",
    "        return 'two_real_roots'\n",
    "\n",
    "def two_real_roots(state : Quadratic_eq):\n",
    "    return {'result' : 'This eq has two real roots'}\n",
    "\n",
    "def same_roots(state : Quadratic_eq):\n",
    "    return {'result' : 'This eq has two same roots'}\n",
    "\n",
    "def no_real_root(state : Quadratic_eq):\n",
    "    return {'result' : 'This eq has no real roots'}\n",
    "    "
   ]
  },
  {
   "cell_type": "code",
   "execution_count": 8,
   "id": "f330b044",
   "metadata": {},
   "outputs": [],
   "source": [
    "graph = StateGraph(Quadratic_eq)\n",
    "\n",
    "graph.add_node('descriminent',descriminent)\n",
    "graph.add_node('two_real_roots',two_real_roots)\n",
    "graph.add_node('same_roots',same_roots)\n",
    "graph.add_node('no_real_root',no_real_root)\n",
    "# graph.add_node('condition',condition)\n",
    "\n",
    "graph.add_edge(START, \"descriminent\")\n",
    "graph.add_conditional_edges(\"descriminent\", condition)\n",
    "graph.add_edge('two_real_roots', END)\n",
    "graph.add_edge('no_real_root', END)\n",
    "graph.add_edge('same_roots', END)\n",
    "\n",
    "workflow = graph.compile()"
   ]
  },
  {
   "cell_type": "code",
   "execution_count": 9,
   "id": "9b79edb6",
   "metadata": {},
   "outputs": [
    {
     "data": {
      "text/plain": [
       "{'a': 4,\n",
       " 'b': 5,\n",
       " 'c': 6,\n",
       " 'discriminent': -71,\n",
       " 'result': 'This eq has no real roots'}"
      ]
     },
     "execution_count": 9,
     "metadata": {},
     "output_type": "execute_result"
    }
   ],
   "source": [
    "workflow.invoke({'a': 4,'b' : 5, 'c' : 6})"
   ]
  },
  {
   "cell_type": "code",
   "execution_count": 10,
   "id": "21f391f1",
   "metadata": {},
   "outputs": [
    {
     "data": {
      "image/png": "[encoded data removed]",
      "text/plain": [
       "<langgraph.graph.state.CompiledStateGraph object at 0x0000020AA6C796D0>"
      ]
     },
     "execution_count": 10,
     "metadata": {},
     "output_type": "execute_result"
    }
   ],
   "source": [
    "graph.compile()"
   ]
  },
  {
   "cell_type": "code",
   "execution_count": null,
   "id": "b41d1bc0",
   "metadata": {},
   "outputs": [],
   "source": []
  }
 ],
 "metadata": {
  "kernelspec": {
   "display_name": "Python 3",
   "language": "python",
   "name": "python3"
  },
  "language_info": {
   "codemirror_mode": {
    "name": "ipython",
    "version": 3
   },
   "file_extension": ".py",
   "mimetype": "text/x-python",
   "name": "python",
   "nbconvert_exporter": "python",
   "pygments_lexer": "ipython3",
   "version": "3.11.4"
  }
 },
 "nbformat": 4,
 "nbformat_minor": 5
}
