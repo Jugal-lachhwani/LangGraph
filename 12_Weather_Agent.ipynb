{
 "cells": [
  {
   "cell_type": "code",
   "execution_count": 1,
   "id": "6e8b134f",
   "metadata": {},
   "outputs": [
    {
     "data": {
      "text/plain": [
       "True"
      ]
     },
     "execution_count": 1,
     "metadata": {},
     "output_type": "execute_result"
    }
   ],
   "source": [
    "import os\n",
    "from dotenv import load_dotenv\n",
    "load_dotenv()"
   ]
  },
  {
   "cell_type": "code",
   "execution_count": 2,
   "id": "8576c4e5",
   "metadata": {},
   "outputs": [
    {
     "name": "stderr",
     "output_type": "stream",
     "text": [
      "c:\\Users\\DELL\\AppData\\Local\\Programs\\Python\\Python311\\Lib\\site-packages\\tqdm\\auto.py:21: TqdmWarning: IProgress not found. Please update jupyter and ipywidgets. See https://ipywidgets.readthedocs.io/en/stable/user_install.html\n",
      "  from .autonotebook import tqdm as notebook_tqdm\n"
     ]
    }
   ],
   "source": [
    "import requests\n",
    "from typing import List, Literal\n",
    "from langchain_community.tools.tavily_search import TavilySearchResults\n",
    "from langchain_core.tools import tool\n",
    "from langchain_google_genai import ChatGoogleGenerativeAI"
   ]
  },
  {
   "cell_type": "code",
   "execution_count": 3,
   "id": "8a2fcee9",
   "metadata": {},
   "outputs": [],
   "source": [
    "# Get API keys from environment variables\n",
    "WEATHER_API_KEY = os.getenv(\"WEATHER_API_KEY\")\n",
    "TAVILY_API_KEY = os.getenv(\"TAVILY_API_KEY\")\n",
    "OPENAI_API_KEY = os.getenv(\"OPENAI_API_KEY\")"
   ]
  },
  {
   "cell_type": "code",
   "execution_count": 4,
   "id": "59d7137b",
   "metadata": {},
   "outputs": [],
   "source": [
    "@tool\n",
    "def get_weather(query: str) -> list:\n",
    "    \"\"\"Search weatherapi to get the current weather\"\"\"\n",
    "    endpoint = f\"http://api.weatherapi.com/v1/current.json?key={WEATHER_API_KEY}&q={query}\"\n",
    "    response = requests.get(endpoint)\n",
    "    data = response.json()\n",
    "\n",
    "    if data.get(\"location\"):\n",
    "        return data\n",
    "    else:\n",
    "        return \"Weather Data Not Found\"\n",
    "    \n",
    "@tool\n",
    "def search_web(query: str) -> list:\n",
    "    \"\"\"Search the web for a query\"\"\"\n",
    "    tavily_search = TavilySearchResults(api_key=TAVILY_API_KEY, max_results=2, search_depth='advanced', max_tokens=1000)\n",
    "    results = tavily_search.invoke(query)\n",
    "    return results"
   ]
  },
  {
   "cell_type": "code",
   "execution_count": 5,
   "id": "52f92d03",
   "metadata": {},
   "outputs": [],
   "source": [
    "llm = ChatGoogleGenerativeAI(model='gemini-1.5-flash-latest')"
   ]
  },
  {
   "cell_type": "code",
   "execution_count": 6,
   "id": "d479e717",
   "metadata": {},
   "outputs": [],
   "source": [
    "tools = [search_web, get_weather]\n",
    "llm_with_tools = llm.bind_tools(tools)"
   ]
  },
  {
   "cell_type": "code",
   "execution_count": 7,
   "id": "ae49c04d",
   "metadata": {},
   "outputs": [
    {
     "name": "stdout",
     "output_type": "stream",
     "text": [
      "[{'name': 'get_weather', 'args': {'query': 'Trivandrum'}, 'id': '9a516d42-31fb-49fd-afce-c274fb302d15', 'type': 'tool_call'}, {'name': 'search_web', 'args': {'query': 'Kerala'}, 'id': '0373286c-2f8d-4f57-9d53-16ce036e8943', 'type': 'tool_call'}, {'name': 'search_web', 'args': {'query': 'Why is the sky blue?'}, 'id': 'a368aaea-7fa9-442f-b4b7-61d675dbdd27', 'type': 'tool_call'}]\n",
      "I do not have access to real-time information, including live weather updates.  To get the current weather in Trivandrum (Thiruvananthapuram), India, I recommend checking a reliable weather website or app such as Google Weather, AccuWeather, or a similar service.\n"
     ]
    }
   ],
   "source": [
    "prompt = \"\"\"\n",
    "    Given only the tools at your disposal, mention tool calls for the following tasks:\n",
    "    Do not change the query given for any search tasks\n",
    "        1. What is the current weather in Trivandrum today\n",
    "        2. Can you tell me about Kerala\n",
    "        3. Why is the sky blue?\n",
    "    \"\"\"\n",
    "\n",
    "results = llm_with_tools.invoke(prompt)\n",
    "\n",
    "print(results.tool_calls)\n",
    "\n",
    "query = \"What is the current weather in Trivandrum today\"\n",
    "response = llm.invoke(query)\n",
    "print(response.content)"
   ]
  },
  {
   "cell_type": "code",
   "execution_count": 8,
   "id": "a99fc5fd",
   "metadata": {},
   "outputs": [
    {
     "name": "stdout",
     "output_type": "stream",
     "text": [
      "================================\u001b[1m Human Message \u001b[0m=================================\n",
      "\n",
      "Will it rain in Ahmedabad\n",
      "==================================\u001b[1m Ai Message \u001b[0m==================================\n",
      "Tool Calls:\n",
      "  get_weather (b150cf07-77e4-457d-9ec1-eb14052cf0ae)\n",
      " Call ID: b150cf07-77e4-457d-9ec1-eb14052cf0ae\n",
      "  Args:\n",
      "    query: Ahmedabad\n",
      "=================================\u001b[1m Tool Message \u001b[0m=================================\n",
      "Name: get_weather\n",
      "\n",
      "{\"location\": {\"name\": \"Ahmedabad\", \"region\": \"Gujarat\", \"country\": \"India\", \"lat\": 23.0333, \"lon\": 72.6167, \"tz_id\": \"Asia/Kolkata\", \"localtime_epoch\": 1758049488, \"localtime\": \"2025-09-17 00:34\"}, \"current\": {\"last_updated_epoch\": 1758049200, \"last_updated\": \"2025-09-17 00:30\", \"temp_c\": 27.2, \"temp_f\": 81.0, \"is_day\": 0, \"condition\": {\"text\": \"Mist\", \"icon\": \"//cdn.weatherapi.com/weather/64x64/night/143.png\", \"code\": 1030}, \"wind_mph\": 2.5, \"wind_kph\": 4.0, \"wind_degree\": 293, \"wind_dir\": \"WNW\", \"pressure_mb\": 1006.0, \"pressure_in\": 29.71, \"precip_mm\": 0.0, \"precip_in\": 0.0, \"humidity\": 79, \"cloud\": 25, \"feelslike_c\": 29.5, \"feelslike_f\": 85.2, \"windchill_c\": 28.2, \"windchill_f\": 82.8, \"heatindex_c\": 31.3, \"heatindex_f\": 88.3, \"dewpoint_c\": 22.2, \"dewpoint_f\": 72.0, \"vis_km\": 4.0, \"vis_miles\": 2.0, \"uv\": 0.0, \"gust_mph\": 4.0, \"gust_kph\": 6.5, \"short_rad\": 0, \"diff_rad\": 0, \"dni\": 0, \"gti\": 0}}\n",
      "==================================\u001b[1m Ai Message \u001b[0m==================================\n",
      "\n",
      "The current weather in Ahmedabad is misty with a temperature of 27.2°C (81°F) and a wind speed of 4 kph (2.5 mph).  There is no precipitation at the moment.\n"
     ]
    }
   ],
   "source": [
    "from langgraph.prebuilt import create_react_agent\n",
    "\n",
    "# system prompt is used to inform the tools available to when to use each\n",
    "system_prompt = \"\"\"Act as a helpful assistant.\n",
    "    Use the tools at your disposal to perform tasks as needed.\n",
    "        - add: whenever user asks to add or uses + sign in a equation.\n",
    "        - subtract: whenever user asks to subtract or uses - sign in a equation\n",
    "    Use the tools only if you don't know the answer.\n",
    "    \"\"\"\n",
    "\n",
    "# we can initialize the agent using the llama3 model, tools, and system prompt.\n",
    "agent = create_react_agent(model=llm, tools=tools, prompt=system_prompt)\n",
    "\n",
    "# Let’s query the agent to see the result.\n",
    "def print_stream(stream):\n",
    "    for s in stream:\n",
    "        message = s[\"messages\"][-1]\n",
    "        if isinstance(message, tuple):\n",
    "            print(message)\n",
    "        else:\n",
    "            message.pretty_print()\n",
    "\n",
    "inputs = {\"messages\": [(\"user\", \"Will it rain in Ahmedabad\")]}\n",
    "\n",
    "print_stream(agent.stream(inputs, stream_mode=\"values\"))\n"
   ]
  },
  {
   "cell_type": "code",
   "execution_count": 9,
   "id": "03896c61",
   "metadata": {},
   "outputs": [],
   "source": [
    "from langgraph.prebuilt import ToolNode\n",
    "from langgraph.graph import StateGraph, MessagesState, START, END"
   ]
  },
  {
   "cell_type": "code",
   "execution_count": 10,
   "id": "835603c3",
   "metadata": {},
   "outputs": [],
   "source": [
    "def call_model(state: MessagesState):\n",
    "    messages = state[\"messages\"]\n",
    "    response = llm_with_tools.invoke(messages)\n",
    "    return {\"messages\": [response]}\n",
    "\n",
    "def call_tools(state: MessagesState) -> Literal[\"tools\", END]:\n",
    "    messages = state[\"messages\"]\n",
    "    last_message = messages[-1]\n",
    "    if last_message.tool_calls:\n",
    "        return \"tools\"\n",
    "    return END"
   ]
  },
  {
   "cell_type": "code",
   "execution_count": 12,
   "id": "35922e93",
   "metadata": {},
   "outputs": [],
   "source": [
    "tools = [search_web, get_weather]\n",
    "tool_node = ToolNode(tools)"
   ]
  },
  {
   "cell_type": "code",
   "execution_count": 13,
   "id": "49d3fd4c",
   "metadata": {},
   "outputs": [],
   "source": [
    "# initialize the workflow from StateGraph\n",
    "workflow = StateGraph(MessagesState)\n",
    "\n",
    "# add a node named LLM, with call_model function. This node uses an LLM to make decisions based on the input given\n",
    "workflow.add_node(\"LLM\", call_model)\n",
    "\n",
    "# Our workflow starts with the LLM node\n",
    "workflow.add_edge(START, \"LLM\")\n",
    "\n",
    "# Add a tools node\n",
    "workflow.add_node(\"tools\", tool_node)\n",
    "\n",
    "# Add a conditional edge from LLM to call_tools function. It can go tools node or end depending on the output of the LLM. \n",
    "workflow.add_conditional_edges(\"LLM\", call_tools)\n",
    "\n",
    "# tools node sends the information back to the LLM\n",
    "workflow.add_edge(\"tools\", \"LLM\")\n",
    "\n",
    "agent = workflow.compile()"
   ]
  },
  {
   "cell_type": "code",
   "execution_count": 14,
   "metadata": {},
   "outputs": [
    {
     "data": {
      "image/png": "[encoded data removed]",
      "text/plain": [
       "<langgraph.graph.state.CompiledStateGraph object at 0x000001B08365CA90>"
      ]
     },
     "execution_count": 14,
     "metadata": {},
     "output_type": "execute_result"
    }
   ],
   "source": [
    "workflow.compile()"
   ]
  },
  {
   "cell_type": "code",
   "execution_count": 15,
   "id": "7c52e69a",
   "metadata": {},
   "outputs": [
    {
     "name": "stdout",
     "output_type": "stream",
     "text": [
      "================================\u001b[1m Human Message \u001b[0m=================================\n",
      "\n",
      "Will it rain in Trivandrum today?\n",
      "==================================\u001b[1m Ai Message \u001b[0m==================================\n",
      "Tool Calls:\n",
      "  get_weather (f00dc557-edfa-46be-918b-ac51448032c0)\n",
      " Call ID: f00dc557-edfa-46be-918b-ac51448032c0\n",
      "  Args:\n",
      "    query: Trivandrum\n",
      "=================================\u001b[1m Tool Message \u001b[0m=================================\n",
      "Name: get_weather\n",
      "\n",
      "{\"location\": {\"name\": \"Trivandrum\", \"region\": \"Kerala\", \"country\": \"India\", \"lat\": 8.5069, \"lon\": 76.9569, \"tz_id\": \"Asia/Kolkata\", \"localtime_epoch\": 1758049217, \"localtime\": \"2025-09-17 00:30\"}, \"current\": {\"last_updated_epoch\": 1758049200, \"last_updated\": \"2025-09-17 00:30\", \"temp_c\": 27.2, \"temp_f\": 81.0, \"is_day\": 0, \"condition\": {\"text\": \"Mist\", \"icon\": \"//cdn.weatherapi.com/weather/64x64/night/143.png\", \"code\": 1030}, \"wind_mph\": 7.6, \"wind_kph\": 12.2, \"wind_degree\": 337, \"wind_dir\": \"NNW\", \"pressure_mb\": 1009.0, \"pressure_in\": 29.8, \"precip_mm\": 0.0, \"precip_in\": 0.0, \"humidity\": 84, \"cloud\": 25, \"feelslike_c\": 32.2, \"feelslike_f\": 90.0, \"windchill_c\": 24.4, \"windchill_f\": 76.0, \"heatindex_c\": 26.9, \"heatindex_f\": 80.5, \"dewpoint_c\": 22.8, \"dewpoint_f\": 73.0, \"vis_km\": 6.0, \"vis_miles\": 3.0, \"uv\": 0.0, \"gust_mph\": 11.6, \"gust_kph\": 18.7, \"short_rad\": 0, \"diff_rad\": 0, \"dni\": 0, \"gti\": 0}}\n",
      "==================================\u001b[1m Ai Message \u001b[0m==================================\n",
      "\n",
      "The current weather in Trivandrum is misty with a temperature of 27.2°C.  There is no precipitation at the moment.\n"
     ]
    }
   ],
   "source": [
    "for chunk in agent.stream(\n",
    "    {\"messages\": [(\"user\", \"Will it rain in Trivandrum today?\")]},\n",
    "    stream_mode=\"values\",):\n",
    "    chunk[\"messages\"][-1].pretty_print()"
   ]
  },
  {
   "cell_type": "code",
   "execution_count": null,
   "metadata": {},
   "outputs": [],
   "source": []
  },
  {
   "cell_type": "code",
   "execution_count": null,
   "id": "9ea774b6",
   "metadata": {},
   "outputs": [],
   "source": []
  }
 ],
 "metadata": {
  "kernelspec": {
   "display_name": "Python 3",
   "language": "python",
   "name": "python3"
  },
  "language_info": {
   "codemirror_mode": {
    "name": "ipython",
    "version": 3
   },
   "file_extension": ".py",
   "mimetype": "text/x-python",
   "name": "python",
   "nbconvert_exporter": "python",
   "pygments_lexer": "ipython3",
   "version": "3.11.4"
  }
 },
 "nbformat": 4,
 "nbformat_minor": 5
}
