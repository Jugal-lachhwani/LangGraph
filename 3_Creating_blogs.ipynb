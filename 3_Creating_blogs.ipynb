{
 "cells": [
  {
   "cell_type": "code",
   "execution_count": 1,
   "id": "a1690b1a",
   "metadata": {},
   "outputs": [
    {
     "name": "stderr",
     "output_type": "stream",
     "text": [
      "c:\\Users\\DELL\\AppData\\Local\\Programs\\Python\\Python311\\Lib\\site-packages\\tqdm\\auto.py:21: TqdmWarning: IProgress not found. Please update jupyter and ipywidgets. See https://ipywidgets.readthedocs.io/en/stable/user_install.html\n",
      "  from .autonotebook import tqdm as notebook_tqdm\n"
     ]
    }
   ],
   "source": [
    "from langgraph.graph import StateGraph,START,END\n",
    "from typing import TypedDict\n",
    "from langchain_google_genai import ChatGoogleGenerativeAI\n",
    "from dotenv import load_dotenv\n",
    "\n",
    "load_dotenv()\n",
    "model = ChatGoogleGenerativeAI(model='gemini-1.5-flash-latest')"
   ]
  },
  {
   "cell_type": "code",
   "execution_count": 11,
   "id": "0ebf8d54",
   "metadata": {},
   "outputs": [],
   "source": [
    "class LlmState(TypedDict):\n",
    "    \n",
    "    topic : str\n",
    "    ans : str\n",
    "    outline : str"
   ]
  },
  {
   "cell_type": "code",
   "execution_count": 12,
   "id": "778e55f5",
   "metadata": {},
   "outputs": [],
   "source": [
    "def OutlineLlm(state: LlmState) -> LlmState:\n",
    "    topic = state['topic']\n",
    "    prompt = f'Give me the outline for creating a blog which is feed to the another llm (directly give the outline withoiut any description) for topic: {topic}'\n",
    "    \n",
    "    outline = model.invoke(prompt).content\n",
    "    \n",
    "    state['outline'] = outline\n",
    "\n",
    "    return state  "
   ]
  },
  {
   "cell_type": "code",
   "execution_count": 13,
   "id": "192216b9",
   "metadata": {},
   "outputs": [],
   "source": [
    "def CreateBlogLlm(state: LlmState) -> LlmState:\n",
    "    topic = state['topic']\n",
    "    outline = state['outline']\n",
    "    prompt = f'Give me the blog for the topic : {topic} and outline : {outline}'\n",
    "    \n",
    "    ans = model.invoke(prompt).content\n",
    "    \n",
    "    state['ans'] = ans\n",
    "    \n",
    "    return state  "
   ]
  },
  {
   "cell_type": "code",
   "execution_count": 15,
   "id": "e9d4ed4f",
   "metadata": {},
   "outputs": [],
   "source": [
    "# define state\n",
    "graph = StateGraph(LlmState)\n",
    "\n",
    "# add nodes\n",
    "graph.add_node('OutlineLlm',OutlineLlm)\n",
    "graph.add_node('CreateBlogLlm',CreateBlogLlm)\n",
    "\n",
    "# add edge\n",
    "graph.add_edge(START,'OutlineLlm')\n",
    "graph.add_edge('OutlineLlm','CreateBlogLlm')\n",
    "graph.add_edge('CreateBlogLlm',END)\n",
    "\n",
    "# compile\n",
    "workflow = graph.compile()\n",
    "\n",
    "# execute graph\n",
    "output = workflow.invoke({'topic':'Stray Dogs'})"
   ]
  },
  {
   "cell_type": "code",
   "execution_count": 16,
   "id": "42b572f1",
   "metadata": {},
   "outputs": [
    {
     "data": {
      "text/plain": [
       "{'topic': 'Stray Dogs',\n",
       " 'ans': \"## The Plight of Stray Dogs: A Growing Crisis and the Path to a Solution\\n\\n**I. Introduction: The Plight of Stray Dogs**\\n\\nThe heartbreaking sight of a stray dog scavenging for food, shivering in the cold, or injured and alone is a common reality in many parts of the world.  Stray dogs, often overlooked and misunderstood, face a daily struggle for survival.  Their plight is a complex issue with far-reaching consequences, impacting public health, safety, and the environment. This blog post will delve into the causes of stray dog populations, their impact on society, and explore effective solutions to address this growing crisis.\\n\\n\\n**II. Causes of Stray Dog Populations:**\\n\\nThe proliferation of stray dogs isn't simply a matter of chance; it's a consequence of several interconnected factors:\\n\\n**A. Abandonment:**  Irresponsible pet ownership is a primary driver.  Dogs are often abandoned due to unwanted litters, financial constraints, moving to unsuitable housing, or simply a change in lifestyle.  This callous act leaves vulnerable animals to fend for themselves.\\n\\n**B. Uncontrolled Breeding:**  The lack of spaying and neutering contributes significantly to the exponential growth of dog populations.  A single unspayed female and her offspring can produce hundreds of puppies within a few years, quickly overwhelming resources and leading to an overpopulation crisis.\\n\\n**C. Lack of Spay/Neuter Programs:**  The absence of accessible and affordable spay/neuter programs, particularly in underserved communities, exacerbates the problem.  This lack of access prevents responsible pet ownership and contributes directly to the overwhelming number of stray dogs.\\n\\n\\n**III. Impacts of Stray Dogs:**\\n\\nThe consequences of large stray dog populations are substantial and multifaceted:\\n\\n**A. Public Health Concerns:** Stray dogs can carry and transmit diseases, most notably rabies, a fatal viral infection.  Other diseases like leptospirosis and canine distemper pose significant risks to both animals and humans.\\n\\n**B. Traffic Accidents:**  Stray dogs wandering onto roadways contribute to traffic accidents, causing injury or death to both animals and people.  This poses a significant safety hazard, particularly in areas with high volumes of traffic.\\n\\n**C. Environmental Issues:**  Large populations of stray dogs can negatively impact the environment through waste disposal issues and potential conflicts with wildlife.\\n\\n\\n**IV. Solutions and Interventions:**\\n\\nAddressing the issue of stray dogs requires a multi-pronged approach:\\n\\n**A. Trap-Neuter-Return (TNR) Programs:**  TNR involves trapping stray dogs, sterilizing them, vaccinating them against rabies and other diseases, and then returning them to their territory. This method helps control population growth while minimizing euthanasia.\\n\\n**B. Adoption and Fostering Initiatives:**  Promoting adoption and fostering programs connects stray dogs with loving homes, reducing their numbers on the streets and providing them with care.  [Link to local animal shelter or rescue organization]\\n\\n**C. Public Awareness Campaigns:** Educating the public about responsible pet ownership, the importance of spaying/neutering, and the consequences of abandoning animals is crucial.\\n\\n**D. Responsible Pet Ownership Education:**  Implementing educational programs in schools and communities to promote responsible pet ownership, including the financial and time commitments involved, can help prevent future abandonment.\\n\\n**E. Government Policies and Regulations:**  Stronger government policies and regulations regarding pet ownership, including licensing requirements and enforcement of anti-abandonment laws, are essential.\\n\\n\\n**V. Success Stories and Case Studies:**\\n\\n[Insert links to news articles, research papers, or organization websites showcasing successful TNR programs, adoption initiatives, or community-led efforts to reduce stray dog populations.  For example, you could include case studies from organizations like the ASPCA or local animal welfare groups.]  Many cities have seen significant reductions in stray dog populations through comprehensive, community-based programs.\\n\\n\\n**VI. Call to Action: How Readers Can Help:**\\n\\nYou can make a difference in the lives of stray dogs.  Consider:\\n\\n* **Adopting a dog:** Give a homeless dog a loving home.\\n* **Volunteering at a local animal shelter:**  Help with the care of stray dogs.\\n* **Donating to animal welfare organizations:** Support their vital work.\\n* **Spreading awareness:** Educate your friends and family about responsible pet ownership.\\n* **Supporting TNR initiatives in your community:**  Advocate for humane solutions.\\n\\n\\n**VII. Conclusion: A Vision for a More Humane Future for Stray Dogs:**\\n\\nThe problem of stray dogs is solvable.  Through a combination of humane interventions, responsible pet ownership, and community engagement, we can create a future where all dogs have a safe and loving home.  It requires collective effort, but the reward – a world where stray dogs are a rare sight – is worth striving for.  Let's work together to build a more humane future for these vulnerable animals.\",\n",
       " 'outline': 'I. Introduction: The Plight of Stray Dogs\\n\\nII. Causes of Stray Dog Populations:\\n    A. Abandonment\\n    B. Uncontrolled Breeding\\n    C. Lack of Spay/Neuter Programs\\n\\nIII. Impacts of Stray Dogs:\\n    A. Public Health Concerns (Rabies, etc.)\\n    B. Traffic Accidents\\n    C. Environmental Issues\\n\\nIV. Solutions and Interventions:\\n    A. Trap-Neuter-Return (TNR) Programs\\n    B. Adoption and Fostering Initiatives\\n    C. Public Awareness Campaigns\\n    D. Responsible Pet Ownership Education\\n    E. Government Policies and Regulations\\n\\nV. Success Stories and Case Studies:  (Include links where possible)\\n\\nVI. Call to Action: How Readers Can Help\\n\\nVII. Conclusion: A Vision for a More Humane Future for Stray Dogs'}"
      ]
     },
     "execution_count": 16,
     "metadata": {},
     "output_type": "execute_result"
    }
   ],
   "source": [
    "output"
   ]
  },
  {
   "cell_type": "code",
   "execution_count": 18,
   "id": "1a4f6692",
   "metadata": {},
   "outputs": [
    {
     "name": "stdout",
     "output_type": "stream",
     "text": [
      "I. Introduction: The Plight of Stray Dogs\n",
      "\n",
      "II. Causes of Stray Dog Populations:\n",
      "    A. Abandonment\n",
      "    B. Uncontrolled Breeding\n",
      "    C. Lack of Spay/Neuter Programs\n",
      "\n",
      "III. Impacts of Stray Dogs:\n",
      "    A. Public Health Concerns (Rabies, etc.)\n",
      "    B. Traffic Accidents\n",
      "    C. Environmental Issues\n",
      "\n",
      "IV. Solutions and Interventions:\n",
      "    A. Trap-Neuter-Return (TNR) Programs\n",
      "    B. Adoption and Fostering Initiatives\n",
      "    C. Public Awareness Campaigns\n",
      "    D. Responsible Pet Ownership Education\n",
      "    E. Government Policies and Regulations\n",
      "\n",
      "V. Success Stories and Case Studies:  (Include links where possible)\n",
      "\n",
      "VI. Call to Action: How Readers Can Help\n",
      "\n",
      "VII. Conclusion: A Vision for a More Humane Future for Stray Dogs\n"
     ]
    }
   ],
   "source": [
    "print(output['outline'])"
   ]
  },
  {
   "cell_type": "code",
   "execution_count": 19,
   "id": "c4773ae0",
   "metadata": {},
   "outputs": [
    {
     "name": "stdout",
     "output_type": "stream",
     "text": [
      "## The Plight of Stray Dogs: A Growing Crisis and the Path to a Solution\n",
      "\n",
      "**I. Introduction: The Plight of Stray Dogs**\n",
      "\n",
      "The heartbreaking sight of a stray dog scavenging for food, shivering in the cold, or injured and alone is a common reality in many parts of the world.  Stray dogs, often overlooked and misunderstood, face a daily struggle for survival.  Their plight is a complex issue with far-reaching consequences, impacting public health, safety, and the environment. This blog post will delve into the causes of stray dog populations, their impact on society, and explore effective solutions to address this growing crisis.\n",
      "\n",
      "\n",
      "**II. Causes of Stray Dog Populations:**\n",
      "\n",
      "The proliferation of stray dogs isn't simply a matter of chance; it's a consequence of several interconnected factors:\n",
      "\n",
      "**A. Abandonment:**  Irresponsible pet ownership is a primary driver.  Dogs are often abandoned due to unwanted litters, financial constraints, moving to unsuitable housing, or simply a change in lifestyle.  This callous act leaves vulnerable animals to fend for themselves.\n",
      "\n",
      "**B. Uncontrolled Breeding:**  The lack of spaying and neutering contributes significantly to the exponential growth of dog populations.  A single unspayed female and her offspring can produce hundreds of puppies within a few years, quickly overwhelming resources and leading to an overpopulation crisis.\n",
      "\n",
      "**C. Lack of Spay/Neuter Programs:**  The absence of accessible and affordable spay/neuter programs, particularly in underserved communities, exacerbates the problem.  This lack of access prevents responsible pet ownership and contributes directly to the overwhelming number of stray dogs.\n",
      "\n",
      "\n",
      "**III. Impacts of Stray Dogs:**\n",
      "\n",
      "The consequences of large stray dog populations are substantial and multifaceted:\n",
      "\n",
      "**A. Public Health Concerns:** Stray dogs can carry and transmit diseases, most notably rabies, a fatal viral infection.  Other diseases like leptospirosis and canine distemper pose significant risks to both animals and humans.\n",
      "\n",
      "**B. Traffic Accidents:**  Stray dogs wandering onto roadways contribute to traffic accidents, causing injury or death to both animals and people.  This poses a significant safety hazard, particularly in areas with high volumes of traffic.\n",
      "\n",
      "**C. Environmental Issues:**  Large populations of stray dogs can negatively impact the environment through waste disposal issues and potential conflicts with wildlife.\n",
      "\n",
      "\n",
      "**IV. Solutions and Interventions:**\n",
      "\n",
      "Addressing the issue of stray dogs requires a multi-pronged approach:\n",
      "\n",
      "**A. Trap-Neuter-Return (TNR) Programs:**  TNR involves trapping stray dogs, sterilizing them, vaccinating them against rabies and other diseases, and then returning them to their territory. This method helps control population growth while minimizing euthanasia.\n",
      "\n",
      "**B. Adoption and Fostering Initiatives:**  Promoting adoption and fostering programs connects stray dogs with loving homes, reducing their numbers on the streets and providing them with care.  [Link to local animal shelter or rescue organization]\n",
      "\n",
      "**C. Public Awareness Campaigns:** Educating the public about responsible pet ownership, the importance of spaying/neutering, and the consequences of abandoning animals is crucial.\n",
      "\n",
      "**D. Responsible Pet Ownership Education:**  Implementing educational programs in schools and communities to promote responsible pet ownership, including the financial and time commitments involved, can help prevent future abandonment.\n",
      "\n",
      "**E. Government Policies and Regulations:**  Stronger government policies and regulations regarding pet ownership, including licensing requirements and enforcement of anti-abandonment laws, are essential.\n",
      "\n",
      "\n",
      "**V. Success Stories and Case Studies:**\n",
      "\n",
      "[Insert links to news articles, research papers, or organization websites showcasing successful TNR programs, adoption initiatives, or community-led efforts to reduce stray dog populations.  For example, you could include case studies from organizations like the ASPCA or local animal welfare groups.]  Many cities have seen significant reductions in stray dog populations through comprehensive, community-based programs.\n",
      "\n",
      "\n",
      "**VI. Call to Action: How Readers Can Help:**\n",
      "\n",
      "You can make a difference in the lives of stray dogs.  Consider:\n",
      "\n",
      "* **Adopting a dog:** Give a homeless dog a loving home.\n",
      "* **Volunteering at a local animal shelter:**  Help with the care of stray dogs.\n",
      "* **Donating to animal welfare organizations:** Support their vital work.\n",
      "* **Spreading awareness:** Educate your friends and family about responsible pet ownership.\n",
      "* **Supporting TNR initiatives in your community:**  Advocate for humane solutions.\n",
      "\n",
      "\n",
      "**VII. Conclusion: A Vision for a More Humane Future for Stray Dogs:**\n",
      "\n",
      "The problem of stray dogs is solvable.  Through a combination of humane interventions, responsible pet ownership, and community engagement, we can create a future where all dogs have a safe and loving home.  It requires collective effort, but the reward – a world where stray dogs are a rare sight – is worth striving for.  Let's work together to build a more humane future for these vulnerable animals.\n"
     ]
    }
   ],
   "source": [
    "print(output['ans'])"
   ]
  },
  {
   "cell_type": "code",
   "execution_count": null,
   "id": "5775c9a8",
   "metadata": {},
   "outputs": [],
   "source": []
  }
 ],
 "metadata": {
  "kernelspec": {
   "display_name": "Python 3",
   "language": "python",
   "name": "python3"
  },
  "language_info": {
   "codemirror_mode": {
    "name": "ipython",
    "version": 3
   },
   "file_extension": ".py",
   "mimetype": "text/x-python",
   "name": "python",
   "nbconvert_exporter": "python",
   "pygments_lexer": "ipython3",
   "version": "3.11.4"
  }
 },
 "nbformat": 4,
 "nbformat_minor": 5
}
