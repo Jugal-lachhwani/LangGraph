{
 "cells": [
  {
   "cell_type": "code",
   "execution_count": 67,
   "id": "44543fb8",
   "metadata": {},
   "outputs": [],
   "source": [
    "from langgraph.graph import StateGraph,START, END\n",
    "from typing import TypedDict"
   ]
  },
  {
   "cell_type": "code",
   "execution_count": 68,
   "id": "0f4ac1e8",
   "metadata": {},
   "outputs": [],
   "source": [
    "class Stats(TypedDict):\n",
    "    runs : int\n",
    "    balls : int\n",
    "    fours : int\n",
    "    six : int\n",
    "    \n",
    "    sr : float\n",
    "    bpb : float\n",
    "    bper : float\n",
    "    \n",
    "    Summary : str"
   ]
  },
  {
   "cell_type": "code",
   "execution_count": 81,
   "id": "9d86c2ff",
   "metadata": {},
   "outputs": [],
   "source": [
    "def calculate_sr(state : Stats):\n",
    "    runs = state['runs']\n",
    "    sr = (runs/ state['balls']) * 100\n",
    "    \n",
    "    return {'sr' : sr}"
   ]
  },
  {
   "cell_type": "code",
   "execution_count": 84,
   "id": "902154e6",
   "metadata": {},
   "outputs": [],
   "source": [
    "def calculate_bpb(state : Stats):\n",
    "    \n",
    "    bpb = (state['balls'] / (state['fours'] + state['six']))\n",
    "    \n",
    "    return {'bpb' : bpb}"
   ]
  },
  {
   "cell_type": "code",
   "execution_count": 75,
   "id": "4671bca7",
   "metadata": {},
   "outputs": [],
   "source": [
    "def calculate_bper(state : Stats):\n",
    "    \n",
    "    boundary_percent = (((state['fours'] * 4) + (state['six'] * 6))/state['runs'])*100\n",
    "    \n",
    "    return {'bper' : boundary_percent}"
   ]
  },
  {
   "cell_type": "code",
   "execution_count": 72,
   "id": "c466f3d7",
   "metadata": {},
   "outputs": [],
   "source": [
    "def Summary(state : Stats):\n",
    "    \n",
    "    Summary =  f\"\"\"\n",
    "    Runs = {state['runs']}\n",
    "    balls = {state['balls']}\n",
    "    fours = {state['fours']}\n",
    "    six = {state['six']}\n",
    "    sr = {state['sr']}\n",
    "    bper = {state['bper']}\n",
    "    bpb = {state['bpb']}          \n",
    "    \"\"\"\n",
    "    \n",
    "    return {'Summary':Summary}"
   ]
  },
  {
   "cell_type": "code",
   "execution_count": 85,
   "id": "cbd043ad",
   "metadata": {},
   "outputs": [],
   "source": [
    "# define graph\n",
    "graph = StateGraph(Stats)\n",
    "\n",
    "# add nodes\n",
    "graph.add_node('calculate_sr',calculate_sr)\n",
    "graph.add_node('calculate_bpb',calculate_bpb)\n",
    "graph.add_node('calculate_bper', calculate_bper)\n",
    "graph.add_node('Summary',Summary)\n",
    "\n",
    "# add edge\n",
    "graph.add_edge(START,'calculate_sr')\n",
    "graph.add_edge(START,'calculate_bpb')\n",
    "graph.add_edge(START,'calculate_bper')\n",
    "graph.add_edge('calculate_sr','Summary')\n",
    "graph.add_edge('calculate_bper','Summary')\n",
    "graph.add_edge('calculate_bpb','Summary')\n",
    "graph.add_edge('Summary',END)\n",
    "\n",
    "# compile\n",
    "workflow = graph.compile()"
   ]
  },
  {
   "cell_type": "code",
   "execution_count": 87,
   "id": "02cf2dcf",
   "metadata": {},
   "outputs": [
    {
     "name": "stdout",
     "output_type": "stream",
     "text": [
      "{'runs': 50, 'balls': 30, 'fours': 2, 'six': 2, 'sr': 166.66666666666669, 'bpb': 7.5, 'bper': 40.0, 'Summary': '\\n    Runs = 50\\n    balls = 30\\n    fours = 2\\n    six = 2\\n    sr = 166.66666666666669\\n    bper = 40.0\\n    bpb = 7.5          \\n    '}\n"
     ]
    }
   ],
   "source": [
    "print(workflow.invoke({'runs' : 50,\n",
    "                 'balls':30,\n",
    "                 'fours':2,\n",
    "                 'six':2\n",
    "                 }))"
   ]
  },
  {
   "cell_type": "code",
   "execution_count": 88,
   "id": "e8dbe31b",
   "metadata": {},
   "outputs": [
    {
     "data": {
      "image/png": "[encoded data removed]",
      "text/plain": [
       "<IPython.core.display.Image object>"
      ]
     },
     "execution_count": 88,
     "metadata": {},
     "output_type": "execute_result"
    }
   ],
   "source": [
    "from IPython.display import Image\n",
    "Image(workflow.get_graph().draw_mermaid_png())"
   ]
  },
  {
   "cell_type": "code",
   "execution_count": null,
   "id": "b2a6fe6b",
   "metadata": {},
   "outputs": [],
   "source": []
  }
 ],
 "metadata": {
  "kernelspec": {
   "display_name": "Python 3",
   "language": "python",
   "name": "python3"
  },
  "language_info": {
   "codemirror_mode": {
    "name": "ipython",
    "version": 3
   },
   "file_extension": ".py",
   "mimetype": "text/x-python",
   "name": "python",
   "nbconvert_exporter": "python",
   "pygments_lexer": "ipython3",
   "version": "3.11.4"
  }
 },
 "nbformat": 4,
 "nbformat_minor": 5
}
