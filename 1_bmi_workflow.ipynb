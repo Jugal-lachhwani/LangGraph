{
 "cells": [
  {
   "cell_type": "code",
   "execution_count": 17,
   "id": "f3dbde48",
   "metadata": {},
   "outputs": [],
   "source": [
    "from langgraph.graph import StateGraph,START, END\n",
    "from typing import TypedDict,Literal"
   ]
  },
  {
   "cell_type": "code",
   "execution_count": 18,
   "id": "509c1eb8",
   "metadata": {},
   "outputs": [],
   "source": [
    "# define State\n",
    "\n",
    "class BMIState(TypedDict):\n",
    "    weight : float\n",
    "    height : float\n",
    "    bmi : float\n",
    "    verdict : Literal['fit','underweight','overweight']\n",
    "    "
   ]
  },
  {
   "cell_type": "code",
   "execution_count": 19,
   "id": "e4b87ccd",
   "metadata": {},
   "outputs": [],
   "source": [
    "# Calculate BMI function\n",
    "\n",
    "def calculate_bmi(state : BMIState) -> BMIState:\n",
    "    height = state['height']\n",
    "    weight = state['weight']\n",
    "    \n",
    "    bmi = weight / (height ** 2)\n",
    "    state['bmi'] = round(bmi,2)\n",
    "    \n",
    "    return state\n",
    "    "
   ]
  },
  {
   "cell_type": "code",
   "execution_count": 31,
   "id": "68b7359d",
   "metadata": {},
   "outputs": [],
   "source": [
    "# BMI classification\n",
    "\n",
    "def give_verdict(state: BMIState) -> BMIState:\n",
    "    bmi = state['bmi']\n",
    "    \n",
    "    if bmi < 18.5:\n",
    "        verdict = 'underweight'\n",
    "    elif bmi > 30:\n",
    "        verdict = 'overweight'\n",
    "    else:\n",
    "        verdict = 'fit'\n",
    "        \n",
    "    state['verdict'] = verdict\n",
    "    \n",
    "    return state\n",
    "\n"
   ]
  },
  {
   "cell_type": "code",
   "execution_count": 32,
   "id": "d51d788e",
   "metadata": {},
   "outputs": [],
   "source": [
    "#define your graph\n",
    "graph = StateGraph(BMIState)\n",
    "\n",
    "# add nodes \n",
    "graph.add_node('calculate_bmi',calculate_bmi)\n",
    "graph.add_node('give_verdict',give_verdict)\n",
    "\n",
    "# add edges\n",
    "graph.add_edge(START,'calculate_bmi')\n",
    "graph.add_edge('calculate_bmi','give_verdict')\n",
    "graph.add_edge('give_verdict',END)\n",
    "\n",
    "# compile graph\n",
    "workflow = graph.compile()\n",
    "\n"
   ]
  },
  {
   "cell_type": "code",
   "execution_count": 33,
   "id": "feb43747",
   "metadata": {},
   "outputs": [],
   "source": [
    "#Initial State\n",
    "initial_state = {'height':1.73,'weight':70}\n",
    "\n",
    "# execute graph\n",
    "output = workflow.invoke(initial_state)"
   ]
  },
  {
   "cell_type": "code",
   "execution_count": 34,
   "id": "8c3c24b9",
   "metadata": {},
   "outputs": [
    {
     "data": {
      "text/plain": [
       "{'weight': 70, 'height': 1.73, 'bmi': 23.39, 'verdict': 'fit'}"
      ]
     },
     "execution_count": 34,
     "metadata": {},
     "output_type": "execute_result"
    }
   ],
   "source": [
    "output"
   ]
  },
  {
   "cell_type": "code",
   "execution_count": 35,
   "id": "7d28925c",
   "metadata": {},
   "outputs": [
    {
     "data": {
      "image/png": "[encoded data removed]",
      "text/plain": [
       "<IPython.core.display.Image object>"
      ]
     },
     "execution_count": 35,
     "metadata": {},
     "output_type": "execute_result"
    }
   ],
   "source": [
    "from IPython.display import Image\n",
    "Image(workflow.get_graph().draw_mermaid_png())"
   ]
  },
  {
   "cell_type": "code",
   "execution_count": null,
   "id": "5febd438",
   "metadata": {},
   "outputs": [],
   "source": []
  }
 ],
 "metadata": {
  "kernelspec": {
   "display_name": "Python 3",
   "language": "python",
   "name": "python3"
  },
  "language_info": {
   "codemirror_mode": {
    "name": "ipython",
    "version": 3
   },
   "file_extension": ".py",
   "mimetype": "text/x-python",
   "name": "python",
   "nbconvert_exporter": "python",
   "pygments_lexer": "ipython3",
   "version": "3.11.4"
  }
 },
 "nbformat": 4,
 "nbformat_minor": 5
}
