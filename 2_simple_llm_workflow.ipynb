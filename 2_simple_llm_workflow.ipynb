{
 "cells": [
  {
   "cell_type": "code",
   "execution_count": 12,
   "id": "90b5a071",
   "metadata": {},
   "outputs": [
    {
     "data": {
      "text/plain": [
       "True"
      ]
     },
     "execution_count": 12,
     "metadata": {},
     "output_type": "execute_result"
    }
   ],
   "source": [
    "from langgraph.graph import StateGraph,START,END\n",
    "from typing import TypedDict\n",
    "from langchain_google_genai import ChatGoogleGenerativeAI\n",
    "from dotenv import load_dotenv\n",
    "\n",
    "load_dotenv()"
   ]
  },
  {
   "cell_type": "code",
   "execution_count": 8,
   "id": "4d6e63f4",
   "metadata": {},
   "outputs": [],
   "source": [
    "# make State\n",
    "class LlmState(TypedDict):\n",
    "    \n",
    "    question : str\n",
    "    ans : str\n",
    "    "
   ]
  },
  {
   "cell_type": "code",
   "execution_count": 9,
   "id": "a4577ffa",
   "metadata": {},
   "outputs": [],
   "source": [
    "def simpleLlm(state: LlmState) -> LlmState:\n",
    "    quetion = state['question']\n",
    "    prompt = f'Give the ans of the quetion : {quetion}'\n",
    "    \n",
    "    model = ChatGoogleGenerativeAI(model='gemini-1.5-flash-latest')\n",
    "    \n",
    "    ans = model.invoke(prompt).content\n",
    "    \n",
    "    state['ans'] = ans\n",
    "\n",
    "    return state    "
   ]
  },
  {
   "cell_type": "code",
   "execution_count": 13,
   "id": "e1c9e5c7",
   "metadata": {},
   "outputs": [],
   "source": [
    "# define state\n",
    "graph = StateGraph(LlmState)\n",
    "\n",
    "# add nodes\n",
    "graph.add_node('simpleLlm',simpleLlm)\n",
    "\n",
    "# add edge\n",
    "graph.add_edge(START,'simpleLlm')\n",
    "graph.add_edge('simpleLlm',END)\n",
    "\n",
    "# compile\n",
    "workflow = graph.compile()\n",
    "\n",
    "# execute graph\n",
    "output = workflow.invoke({'question':'should stray dogs should be removed'})"
   ]
  },
  {
   "cell_type": "code",
   "execution_count": 14,
   "id": "6ae3bcc6",
   "metadata": {},
   "outputs": [
    {
     "data": {
      "text/plain": [
       "{'question': 'should stray dogs should be removed',\n",
       " 'ans': \"There's no single answer to the question of whether stray dogs should be removed.  It's a complex issue with ethical, practical, and societal considerations.\\n\\nArguments for removal often center on public safety (bites, disease transmission), public health concerns (waste, disease), and nuisance issues (barking, aggression).\\n\\nArguments against removal highlight the ethical implications of euthanizing animals, the potential disruption of existing ecosystems, and the possibility of more effective solutions like Trap-Neuter-Return (TNR) programs.  TNR aims to humanely control populations by sterilizing strays and returning them to their territories, preventing further breeding.\\n\\nUltimately, the best approach depends on the specific context, including the local stray dog population size, available resources, and community attitudes.  A humane and sustainable solution should prioritize the well-being of the animals while ensuring public safety.  Simply removing stray dogs without a comprehensive plan is often ineffective and can be ethically problematic.\"}"
      ]
     },
     "execution_count": 14,
     "metadata": {},
     "output_type": "execute_result"
    }
   ],
   "source": [
    "output"
   ]
  },
  {
   "cell_type": "code",
   "execution_count": null,
   "id": "63677256",
   "metadata": {},
   "outputs": [],
   "source": []
  }
 ],
 "metadata": {
  "kernelspec": {
   "display_name": "Python 3",
   "language": "python",
   "name": "python3"
  },
  "language_info": {
   "codemirror_mode": {
    "name": "ipython",
    "version": 3
   },
   "file_extension": ".py",
   "mimetype": "text/x-python",
   "name": "python",
   "nbconvert_exporter": "python",
   "pygments_lexer": "ipython3",
   "version": "3.11.4"
  }
 },
 "nbformat": 4,
 "nbformat_minor": 5
}
